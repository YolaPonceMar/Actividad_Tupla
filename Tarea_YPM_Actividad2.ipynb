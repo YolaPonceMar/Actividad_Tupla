{
 "cells": [
  {
   "cell_type": "code",
   "execution_count": 2,
   "id": "2900c105",
   "metadata": {},
   "outputs": [],
   "source": [
    "tupla2=(\"Xignux\",2022,False,3.1516,'x')"
   ]
  },
  {
   "cell_type": "code",
   "execution_count": 3,
   "id": "5a718dfb",
   "metadata": {},
   "outputs": [],
   "source": [
    "listadetupla2 = list(tupla2)"
   ]
  },
  {
   "cell_type": "code",
   "execution_count": 8,
   "id": "c32668f2",
   "metadata": {},
   "outputs": [
    {
     "data": {
      "text/plain": [
       "list"
      ]
     },
     "execution_count": 8,
     "metadata": {},
     "output_type": "execute_result"
    }
   ],
   "source": [
    "type(listadetupla2)"
   ]
  },
  {
   "cell_type": "code",
   "execution_count": 10,
   "id": "f7e68d6a",
   "metadata": {},
   "outputs": [],
   "source": [
    "Diccionario_Datos= {\n",
    "    \"1\": \"Xignux\",\n",
    "    \"2\": 2022,\n",
    "    \"3\": False,\n",
    "    \"4\": 3.1516,\n",
    "    \"5\":'x'\n",
    "}"
   ]
  },
  {
   "cell_type": "code",
   "execution_count": 11,
   "id": "2cb577d8",
   "metadata": {},
   "outputs": [
    {
     "data": {
      "text/plain": [
       "{'1': 'Xignux', '2': 2022, '3': False, '4': 3.1516, '5': 'x'}"
      ]
     },
     "execution_count": 11,
     "metadata": {},
     "output_type": "execute_result"
    }
   ],
   "source": [
    "Diccionario_Datos"
   ]
  },
  {
   "cell_type": "code",
   "execution_count": null,
   "id": "dbb51af4",
   "metadata": {},
   "outputs": [],
   "source": []
  }
 ],
 "metadata": {
  "kernelspec": {
   "display_name": "Python 3 (ipykernel)",
   "language": "python",
   "name": "python3"
  },
  "language_info": {
   "codemirror_mode": {
    "name": "ipython",
    "version": 3
   },
   "file_extension": ".py",
   "mimetype": "text/x-python",
   "name": "python",
   "nbconvert_exporter": "python",
   "pygments_lexer": "ipython3",
   "version": "3.9.12"
  }
 },
 "nbformat": 4,
 "nbformat_minor": 5
}
